{
 "cells": [
  {
   "cell_type": "markdown",
   "metadata": {},
   "source": [
    "# 017 - MPRT- Finding a Protein Motif"
   ]
  },
  {
   "cell_type": "markdown",
   "metadata": {},
   "source": [
    "في المسأله هاذي يبيك تطبق مهارتين\n",
    "\n",
    "الاولى انك تفهم وتبحث عن البروتين \n",
    "motifs\n",
    "\n",
    "الثانيه انك شلون تقدر تبحث عن موتيف معين في قاعدة بيانات محدده"
   ]
  },
  {
   "cell_type": "markdown",
   "metadata": {},
   "source": [
    " "
   ]
  },
  {
   "cell_type": "markdown",
   "metadata": {},
   "source": [
    "خل نحمل تالحزم الي نحتاجها في هذه المسأله"
   ]
  },
  {
   "cell_type": "code",
   "execution_count": 22,
   "metadata": {},
   "outputs": [],
   "source": [
    "#!/usr/bin/env python\n",
    "import re \n",
    "import sys\n",
    "from io import StringIO # هذة الحزمه تساعدك في التعامل مع السلاسل بشكل عام\n",
    "from Bio import SeqIO #حزمة بايوبايثن للتعامل مع السلاسل البيولوجية\n",
    "import requests"
   ]
  },
  {
   "cell_type": "code",
   "execution_count": 27,
   "metadata": {},
   "outputs": [
    {
     "name": "stdout",
     "output_type": "stream",
     "text": [
      "B5ZC00\n",
      "85 118 142 306 395\n",
      "P07204_TRBM_HUMAN\n",
      "47 115 116 382 409\n",
      "P20840_SAG1_YEAST\n",
      "79 109 135 248 306 348 364 402 485 501 614\n"
     ]
    }
   ],
   "source": [
    "\n",
    "if __name__ == '__main__':\n",
    "    fid = open('rosalind_mprt.txt','r') # حمل ملفك\n",
    "    accs = fid.read().strip().split('\\n') # الامر هذا ياخذ الملف ويحول المعرفات الي الى لسته\n",
    "    for acc in accs:\n",
    "        r = requests.get('http://www.uniprot.org/uniprot/%s.fasta' % acc) # عملية طلب كل معرف بروتين على حدة من قاعدة بينانات البروتينات\n",
    "        s = SeqIO.read(StringIO(r.text), 'fasta')# الامر هذا ياخذ بس الفاستا سيكوينس من قاعدة البيانات\n",
    "        mos = [x for x in re.finditer(r'(?=(N[^P][ST][^P]))',  str(s.seq))] # هنا نشيك مواقع الموتيف في السيكوينس\n",
    "        if not len(mos):\n",
    "            continue\n",
    "        print(acc) # نطبع المعرف\n",
    "        print(' '.join([str(mo.start(0) + 1) for mo in mos])) # نطبع المواقع"
   ]
  },
  {
   "cell_type": "code",
   "execution_count": null,
   "metadata": {},
   "outputs": [],
   "source": []
  }
 ],
 "metadata": {
  "kernelspec": {
   "display_name": "Python 3",
   "language": "python",
   "name": "python3"
  },
  "language_info": {
   "codemirror_mode": {
    "name": "ipython",
    "version": 3
   },
   "file_extension": ".py",
   "mimetype": "text/x-python",
   "name": "python",
   "nbconvert_exporter": "python",
   "pygments_lexer": "ipython3",
   "version": "3.7.3"
  }
 },
 "nbformat": 4,
 "nbformat_minor": 2
}
