{
 "cells": [
  {
   "cell_type": "markdown",
   "metadata": {},
   "source": [
    "# 013 - GRPH - Overlap Graphs"
   ]
  },
  {
   "cell_type": "markdown",
   "metadata": {},
   "source": [
    "الفكرة هنا انه يعطيك عدد من المتسلسلات من اي نوع\n",
    "\n",
    "ويبيك ترجعله قائمه بالمتسلسلات المجاورات لبعض\n",
    "\n",
    "فكرة الجوار انه يصير تشابه بين اخر جزء من المتسلسة الأولى واول جزء من المتسلسة الثانيه"
   ]
  },
  {
   "cell_type": "markdown",
   "metadata": {},
   "source": [
    " "
   ]
  },
  {
   "cell_type": "markdown",
   "metadata": {},
   "source": [
    "في المسألة طالب منك العدد 3\n",
    "\n",
    "يعني التشابة بين 3 حروف بين المتسلسلتين"
   ]
  },
  {
   "cell_type": "markdown",
   "metadata": {},
   "source": [
    "الفنكشن الأولى تاخذ الملف كامل وتقسمة الى متسلسلات كلن على حده في زي القاموس"
   ]
  },
  {
   "cell_type": "code",
   "execution_count": 87,
   "metadata": {},
   "outputs": [],
   "source": [
    "def parse_fasta(fasta):\n",
    "    results = []\n",
    "    strings = fasta.strip().split('>')\n",
    "\n",
    "    for s in strings:\n",
    "        if len(s):\n",
    "            parts = s.split()\n",
    "            k = parts[0]\n",
    "            v = ''.join(parts[1:])\n",
    "            results.append((k, v))\n",
    "\n",
    "    return results"
   ]
  },
  {
   "cell_type": "markdown",
   "metadata": {},
   "source": [
    "الفنكشن الثانيه تأخذ ماتم تقسيمة بالفنكشن الأولى \n",
    "\n",
    "وتسوي عملية الربط\n",
    "\n",
    "اذا تم الشرط\n",
    "\n",
    "يربط لك معرف المتسلسلتين في قائمة "
   ]
  },
  {
   "cell_type": "code",
   "execution_count": 89,
   "metadata": {},
   "outputs": [],
   "source": [
    "def overlap_graph(fasta, n):\n",
    "    results = []\n",
    "\n",
    "    dna = parse_fasta(fasta)\n",
    "\n",
    "    for k1, v1 in dna:\n",
    "        for k2, v2 in dna:\n",
    "            if k1 != k2 and v1.endswith(v2[:n]):\n",
    "                results.append((k1, k2))\n",
    "            \n",
    "\n",
    "    return results"
   ]
  },
  {
   "cell_type": "markdown",
   "metadata": {},
   "source": [
    "الامر هذا يقرأ لك الملف الي بتنزلة من الموقع\n",
    "\n",
    "بعدين يطبع لك مخرجات الفنكشن الي فوق بالطريقة الي طالبها الموقع"
   ]
  },
  {
   "cell_type": "code",
   "execution_count": 92,
   "metadata": {},
   "outputs": [
    {
     "name": "stdout",
     "output_type": "stream",
     "text": [
      "Rosalind_1796 Rosalind_6870\n",
      "Rosalind_1796 Rosalind_5348\n",
      "Rosalind_8323 Rosalind_0721\n",
      "Rosalind_0567 Rosalind_9228\n",
      "Rosalind_4799 Rosalind_7967\n",
      "Rosalind_4799 Rosalind_7345\n",
      "Rosalind_4799 Rosalind_7567\n",
      "Rosalind_4796 Rosalind_6462\n",
      "Rosalind_1633 Rosalind_5831\n",
      "Rosalind_4070 Rosalind_4597\n",
      "Rosalind_1643 Rosalind_1633\n",
      "Rosalind_1643 Rosalind_5831\n",
      "Rosalind_6282 Rosalind_4641\n",
      "Rosalind_6282 Rosalind_3359\n",
      "Rosalind_6282 Rosalind_3012\n",
      "Rosalind_4843 Rosalind_4070\n",
      "Rosalind_4843 Rosalind_3605\n",
      "Rosalind_3041 Rosalind_8323\n",
      "Rosalind_3041 Rosalind_3214\n",
      "Rosalind_3041 Rosalind_9021\n",
      "Rosalind_2602 Rosalind_4796\n",
      "Rosalind_0047 Rosalind_7967\n",
      "Rosalind_0047 Rosalind_7345\n",
      "Rosalind_0047 Rosalind_7567\n",
      "Rosalind_0985 Rosalind_4024\n",
      "Rosalind_4641 Rosalind_4935\n",
      "Rosalind_4641 Rosalind_9604\n",
      "Rosalind_5526 Rosalind_8323\n",
      "Rosalind_5526 Rosalind_3214\n",
      "Rosalind_5526 Rosalind_9021\n",
      "Rosalind_2539 Rosalind_5741\n",
      "Rosalind_3616 Rosalind_7967\n",
      "Rosalind_3616 Rosalind_7345\n",
      "Rosalind_3616 Rosalind_7567\n",
      "Rosalind_8221 Rosalind_7967\n",
      "Rosalind_8221 Rosalind_7345\n",
      "Rosalind_8221 Rosalind_7567\n",
      "Rosalind_9771 Rosalind_8424\n",
      "Rosalind_9771 Rosalind_9479\n",
      "Rosalind_9771 Rosalind_6667\n",
      "Rosalind_6870 Rosalind_6282\n",
      "Rosalind_6870 Rosalind_9771\n",
      "Rosalind_7967 Rosalind_0721\n",
      "Rosalind_3359 Rosalind_5496\n",
      "Rosalind_2606 Rosalind_0567\n",
      "Rosalind_2606 Rosalind_2602\n",
      "Rosalind_2606 Rosalind_2451\n",
      "Rosalind_3769 Rosalind_8424\n",
      "Rosalind_3769 Rosalind_9479\n",
      "Rosalind_3769 Rosalind_6667\n",
      "Rosalind_3224 Rosalind_5077\n",
      "Rosalind_8023 Rosalind_4799\n",
      "Rosalind_5348 Rosalind_8377\n",
      "Rosalind_2705 Rosalind_1633\n",
      "Rosalind_2705 Rosalind_5831\n",
      "Rosalind_7447 Rosalind_4935\n",
      "Rosalind_7447 Rosalind_9604\n",
      "Rosalind_4935 Rosalind_8977\n",
      "Rosalind_4935 Rosalind_7994\n",
      "Rosalind_1804 Rosalind_7281\n",
      "Rosalind_1804 Rosalind_8249\n",
      "Rosalind_8424 Rosalind_6282\n",
      "Rosalind_8424 Rosalind_9771\n",
      "Rosalind_3838 Rosalind_8023\n",
      "Rosalind_3838 Rosalind_3721\n",
      "Rosalind_3838 Rosalind_8358\n",
      "Rosalind_3838 Rosalind_4396\n",
      "Rosalind_9511 Rosalind_8977\n",
      "Rosalind_9511 Rosalind_7994\n",
      "Rosalind_3721 Rosalind_4641\n",
      "Rosalind_3721 Rosalind_3359\n",
      "Rosalind_3721 Rosalind_3012\n",
      "Rosalind_5496 Rosalind_0567\n",
      "Rosalind_5496 Rosalind_2602\n",
      "Rosalind_5496 Rosalind_2451\n",
      "Rosalind_7281 Rosalind_8323\n",
      "Rosalind_7281 Rosalind_3214\n",
      "Rosalind_7281 Rosalind_9021\n",
      "Rosalind_5140 Rosalind_2759\n",
      "Rosalind_5273 Rosalind_8896\n",
      "Rosalind_5273 Rosalind_3497\n",
      "Rosalind_5273 Rosalind_8649\n",
      "Rosalind_3012 Rosalind_2759\n",
      "Rosalind_8299 Rosalind_7447\n",
      "Rosalind_8299 Rosalind_9511\n",
      "Rosalind_8299 Rosalind_5273\n",
      "Rosalind_4396 Rosalind_1804\n",
      "Rosalind_4396 Rosalind_8482\n",
      "Rosalind_9076 Rosalind_4024\n",
      "Rosalind_8896 Rosalind_3616\n",
      "Rosalind_4439 Rosalind_6870\n",
      "Rosalind_4439 Rosalind_5348\n",
      "Rosalind_9479 Rosalind_4597\n",
      "Rosalind_3131 Rosalind_8424\n",
      "Rosalind_3131 Rosalind_9479\n",
      "Rosalind_3131 Rosalind_6667\n",
      "Rosalind_3497 Rosalind_6462\n",
      "Rosalind_9400 Rosalind_5077\n",
      "Rosalind_2141 Rosalind_8977\n",
      "Rosalind_2141 Rosalind_7994\n",
      "Rosalind_3214 Rosalind_1643\n",
      "Rosalind_9021 Rosalind_3224\n",
      "Rosalind_9021 Rosalind_3838\n",
      "Rosalind_9021 Rosalind_1457\n",
      "Rosalind_2019 Rosalind_1618\n",
      "Rosalind_5831 Rosalind_7820\n",
      "Rosalind_5831 Rosalind_3872\n",
      "Rosalind_7567 Rosalind_9228\n",
      "Rosalind_1297 Rosalind_0889\n",
      "Rosalind_1297 Rosalind_0047\n",
      "Rosalind_1297 Rosalind_2606\n",
      "Rosalind_8977 Rosalind_5741\n",
      "Rosalind_2923 Rosalind_2759\n",
      "Rosalind_6667 Rosalind_1618\n",
      "Rosalind_4828 Rosalind_2141\n",
      "Rosalind_4828 Rosalind_0872\n",
      "Rosalind_7994 Rosalind_3407\n",
      "Rosalind_0872 Rosalind_1297\n",
      "Rosalind_1910 Rosalind_4597\n",
      "Rosalind_8482 Rosalind_1643\n",
      "Rosalind_1777 Rosalind_6462\n",
      "Rosalind_8341 Rosalind_8023\n",
      "Rosalind_8341 Rosalind_3721\n",
      "Rosalind_8341 Rosalind_8358\n",
      "Rosalind_8341 Rosalind_4396\n",
      "Rosalind_3841 Rosalind_8977\n",
      "Rosalind_3841 Rosalind_7994\n",
      "Rosalind_9604 Rosalind_1804\n",
      "Rosalind_9604 Rosalind_8482\n",
      "Rosalind_5741 Rosalind_8023\n",
      "Rosalind_5741 Rosalind_3721\n",
      "Rosalind_5741 Rosalind_8358\n",
      "Rosalind_5741 Rosalind_4396\n"
     ]
    }
   ],
   "source": [
    "if __name__ == \"__main__\":\n",
    "    dataset = open('rosalind_grph.txt').read()\n",
    "\n",
    "for i in overlap_graph(dataset, 3):\n",
    "    print(i[0],(i[1]))\n"
   ]
  }
 ],
 "metadata": {
  "kernelspec": {
   "display_name": "Python 3",
   "language": "python",
   "name": "python3"
  },
  "language_info": {
   "codemirror_mode": {
    "name": "ipython",
    "version": 3
   },
   "file_extension": ".py",
   "mimetype": "text/x-python",
   "name": "python",
   "nbconvert_exporter": "python",
   "pygments_lexer": "ipython3",
   "version": "3.7.3"
  }
 },
 "nbformat": 4,
 "nbformat_minor": 2
}
