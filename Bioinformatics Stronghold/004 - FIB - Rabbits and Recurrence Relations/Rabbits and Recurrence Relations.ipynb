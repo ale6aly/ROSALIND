{
 "cells": [
  {
   "cell_type": "markdown",
   "metadata": {},
   "source": [
    "# 004 - FIB - Rabbits and Recurrence Relations"
   ]
  },
  {
   "cell_type": "markdown",
   "metadata": {},
   "source": [
    "المثال هذا يستعرضلكم الحل البرمجي لسلسة فيبوناتشي الي هي مبنيه على تكرار المعادلة الاتيه "
   ]
  },
  {
   "cell_type": "markdown",
   "metadata": {},
   "source": [
    "\\begin{equation}Fn=Fn−1+k⋅Fn−2\\end{equation}"
   ]
  },
  {
   "cell_type": "markdown",
   "metadata": {},
   "source": [
    "الهدف من السلسة هو حساب تعداد مجموعة متوالده -زي الارانب-بعد عدد محدد من الاجيال \n",
    "\n",
    "للأستزاده https://en.wikipedia.org/wiki/Fibonacci_number"
   ]
  },
  {
   "cell_type": "markdown",
   "metadata": {},
   "source": [
    "###  الحل الأول"
   ]
  },
  {
   "cell_type": "markdown",
   "metadata": {},
   "source": [
    "طبعا الكود الي بتبنيه بيحل المعادله المذكورة بشكل بشكل متكرر ويصير  تحديث للمعادلة لين اخر جيل وبعدين يعطيك المجموع الكلي لتعداد الارانب مثلا"
   ]
  },
  {
   "cell_type": "markdown",
   "metadata": {},
   "source": [
    "طبعا هو في السؤال معطيك رقمين \n",
    "\n",
    "n = عدد الاجيال - في حالتنا هنا كل شهر يعتبر جيل\n",
    "\n",
    "k = عدد الازواج المولوده في كل جيل - يعني كل زوج من الارانب بيولد هذا العدد من الازواج كل شهر"
   ]
  },
  {
   "cell_type": "markdown",
   "metadata": {},
   "source": [
    "في المسألة الي نحلها الان عدد الاجيال هو 5 شهور ونفترض ان كل زوج ارانب يولد 3 ازواج\n",
    "\n",
    "n=5, k=3"
   ]
  },
  {
   "cell_type": "code",
   "execution_count": 6,
   "metadata": {},
   "outputs": [
    {
     "name": "stdout",
     "output_type": "stream",
     "text": [
      "19\n"
     ]
    }
   ],
   "source": [
    "def fib(n, k):\n",
    "    previous1, previous2 = 1, 1\n",
    "    for i in range(2, n):\n",
    "        current = previous1 + k * previous2\n",
    "        previous2 = previous1\n",
    "        previous1 = current\n",
    "    return current\n",
    "\n",
    "print (fib(5, 3))"
   ]
  },
  {
   "cell_type": "markdown",
   "metadata": {},
   "source": [
    "الحل هو انه بعد 5 اجيال الزوج الاولي بيولد 19 زوج ارانب "
   ]
  },
  {
   "cell_type": "markdown",
   "metadata": {},
   "source": [
    " "
   ]
  },
  {
   "cell_type": "markdown",
   "metadata": {},
   "source": [
    "### الحل الثاني "
   ]
  },
  {
   "cell_type": "markdown",
   "metadata": {},
   "source": [
    "طبعا سلسة فيبوناتشي هي احد الامثلة الي يمكن حلها بالبرمجة الديناميكية\n",
    "\n",
    "https://en.wikipedia.org/wiki/Dynamic_programming"
   ]
  },
  {
   "cell_type": "code",
   "execution_count": 7,
   "metadata": {},
   "outputs": [
    {
     "name": "stdout",
     "output_type": "stream",
     "text": [
      "19\n"
     ]
    }
   ],
   "source": [
    "fibocache = {}\n",
    "def fibo(n,k):\n",
    "    if n == 2 or n == 1:\n",
    "        return 1\n",
    "    if (n,k) not in fibocache:\n",
    "        fibocache[(n,k)] = fibo(n-1,k) + fibo(n-2,k) * k\n",
    "    return fibocache[(n,k)]\n",
    "\n",
    "print ( fibo( 5, 3) )"
   ]
  }
 ],
 "metadata": {
  "kernelspec": {
   "display_name": "Python 3",
   "language": "python",
   "name": "python3"
  },
  "language_info": {
   "codemirror_mode": {
    "name": "ipython",
    "version": 3
   },
   "file_extension": ".py",
   "mimetype": "text/x-python",
   "name": "python",
   "nbconvert_exporter": "python",
   "pygments_lexer": "ipython3",
   "version": "3.6.5"
  }
 },
 "nbformat": 4,
 "nbformat_minor": 2
}
