{
 "cells": [
  {
   "cell_type": "markdown",
   "metadata": {},
   "source": [
    "# 014 - IEV - Calculating Expected Offspring"
   ]
  },
  {
   "cell_type": "markdown",
   "metadata": {},
   "source": [
    "طبعا فكرة هذا الكود انه يبيك تحسب العدد المتوقع من النسل الذي يعرض النمط الظاهري المهيمن في الجيل القادم\n",
    "\n",
    "The expected number of offspring displaying the dominant phenotype\n",
    "\n",
    "تحت الافتراض بان كل زوجين سينجب طفلان بالضبط\n",
    "\n",
    "طبعا يبيك تستخدم نظريات في الحساب\n",
    "\n",
    "\n",
    "المعادله انك تضرب عدد الاطفال في النسبة في العدد الكلي للأزواج لكل نوع وتجمع الارقام كلها"
   ]
  },
  {
   "cell_type": "markdown",
   "metadata": {},
   "source": [
    " "
   ]
  },
  {
   "cell_type": "markdown",
   "metadata": {},
   "source": [
    "بيعطيك ستة اعداد لست صفات موفرها لك \n",
    "\n",
    "AA-AA\n",
    "\n",
    "AA-Aa\n",
    "\n",
    "AA-aa\n",
    "\n",
    "Aa-Aa\n",
    "\n",
    "Aa-aa\n",
    "\n",
    "aa-aa\n",
    "\n",
    "ويبيك تحسب للجيل الي بعد النسبة"
   ]
  },
  {
   "cell_type": "markdown",
   "metadata": {},
   "source": [
    " "
   ]
  },
  {
   "cell_type": "markdown",
   "metadata": {},
   "source": [
    "اولا نبدأ بألاحتمالات لك زوج \n",
    "\n",
    "مثلا الزوج الأول اكيد انه بيجيب واحد حامل للصفة المهيمينة\n",
    "\n",
    "\n",
    "الزوج الخامس النسبة خمسين بالمئه انه يجيب صفه مهيمينه"
   ]
  },
  {
   "cell_type": "code",
   "execution_count": 6,
   "metadata": {},
   "outputs": [],
   "source": [
    "displayDominant = [1.0, 1.0, 1.0, 0.75, 0.5, 0.0]\n",
    "offspring = 2"
   ]
  },
  {
   "cell_type": "markdown",
   "metadata": {},
   "source": [
    "بعدين نسوي كود يقرأ الملف ويقسم الارقام ويحفظها في متغير\n",
    "parentCounts\n"
   ]
  },
  {
   "cell_type": "code",
   "execution_count": 7,
   "metadata": {},
   "outputs": [],
   "source": [
    "with open('rosalind_iev1.txt','r') as file:\n",
    "    parentCounts = [int(x) for x in file.read().split()]"
   ]
  },
  {
   "cell_type": "markdown",
   "metadata": {},
   "source": [
    "نضرب النسبه في عدد الاطفال في العدد الكلي لكل زوج\n",
    "\n",
    "بعدين تجمععهم في متغير \n",
    "c"
   ]
  },
  {
   "cell_type": "code",
   "execution_count": 5,
   "metadata": {},
   "outputs": [
    {
     "name": "stdout",
     "output_type": "stream",
     "text": [
      "146717.0\n"
     ]
    }
   ],
   "source": [
    "c = sum([offspring * x[0] * x[1] for x in zip(displayDominant, parentCounts)])    \n",
    "print (c)"
   ]
  }
 ],
 "metadata": {
  "kernelspec": {
   "display_name": "Python 3",
   "language": "python",
   "name": "python3"
  },
  "language_info": {
   "codemirror_mode": {
    "name": "ipython",
    "version": 3
   },
   "file_extension": ".py",
   "mimetype": "text/x-python",
   "name": "python",
   "nbconvert_exporter": "python",
   "pygments_lexer": "ipython3",
   "version": "3.7.3"
  }
 },
 "nbformat": 4,
 "nbformat_minor": 2
}
