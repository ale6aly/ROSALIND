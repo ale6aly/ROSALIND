{
 "cells": [
  {
   "cell_type": "markdown",
   "metadata": {},
   "source": [
    "# 018 - ORF - Open Reading Frames"
   ]
  },
  {
   "cell_type": "markdown",
   "metadata": {},
   "source": [
    "الفكره هنا انك بتنعطى سلسلة دي ان اي ويبغاك ترجع له البرتينات المحتمل انها تنتج من هذة السلسلة "
   ]
  },
  {
   "cell_type": "markdown",
   "metadata": {},
   "source": [
    "الفكره هنا ان الدي ان اي له جزئين او جديلتين كل واحده فيها تقدر ان تنتج بروتينات"
   ]
  },
  {
   "cell_type": "markdown",
   "metadata": {},
   "source": [
    "ويتم اعتماد على \n",
    "Open Reading frame \n",
    "\n",
    "الي يبدى ب \n",
    "start codon\n",
    "\n",
    "وينتهي ب\n",
    "stop codon \n"
   ]
  },
  {
   "cell_type": "markdown",
   "metadata": {},
   "source": [
    " "
   ]
  },
  {
   "cell_type": "code",
   "execution_count": 7,
   "metadata": {},
   "outputs": [],
   "source": [
    "import re                                                 \n",
    "from Bio import SeqIO                                     \n",
    "from Bio.Seq import Seq                                   \n",
    "from Bio.Alphabet import generic_dna"
   ]
  },
  {
   "cell_type": "code",
   "execution_count": 8,
   "metadata": {},
   "outputs": [
    {
     "name": "stdout",
     "output_type": "stream",
     "text": [
      "M\n",
      "MGMTPRLGLESLLE\n",
      "MTPRLGLESLLE\n",
      "MLLGSFRLIPKETLIQVAGSSPCNLS\n"
     ]
    }
   ],
   "source": [
    "record = SeqIO.read('rosalind_orf.txt', 'fasta') #يقرى لك الملف ويخزنه بصيغة فاستا         \n",
    "pattern = re.compile(r'(?=(ATG(?:...)*?)(?=TAG|TGA|TAA))') # يبحثلك على الكودونز بالسيكوينس \n",
    "frw_seq = record.seq #يخزن السيكونس الاساسي                                      \n",
    "rev_seq = frw_seq.reverse_complement() #ينتج لك السيكونس العكسي                   \n",
    "sequences = []                                            \n",
    "\n",
    "for m in re.findall(pattern, str(frw_seq)):   # يمر على كل الاحتمالات بالسيكونس الاساسي            \n",
    "    dna_seq = Seq(m, generic_dna)                         \n",
    "    prot_seq = dna_seq.translate()  #هذا يحول الدي ان اي الى بروتين                      \n",
    "    if prot_seq not in sequences:       # تخزين كل الاحتمالات                  \n",
    "        sequences.append(prot_seq)                        \n",
    "for n in re.findall(pattern, str(rev_seq)):   #نفس العملية بس على الدي ان العكسي             \n",
    "    rev_dna_seq = Seq(n, generic_dna)                     \n",
    "    rev_prot_seq = rev_dna_seq.translate()                \n",
    "    if rev_prot_seq not in sequences:                     \n",
    "        sequences.append(rev_prot_seq)                    \n",
    "\n",
    "for i, s in enumerate(sequences):        #طباعة جميع الاحتمالات                 \n",
    "    print(s)   "
   ]
  },
  {
   "cell_type": "code",
   "execution_count": 12,
   "metadata": {},
   "outputs": [
    {
     "name": "stdout",
     "output_type": "stream",
     "text": [
      "CTGAGATGCTACTCGGATCATTCAGGCTTATTCCAAAAGAGACTCTAATCCAAGTCGCGGGGTCATCCCCATGTAACCTGAGTTAGCTACATGGCT\n"
     ]
    }
   ],
   "source": [
    "print (rev_seq\n",
    "      )"
   ]
  },
  {
   "cell_type": "code",
   "execution_count": null,
   "metadata": {},
   "outputs": [],
   "source": []
  },
  {
   "cell_type": "code",
   "execution_count": null,
   "metadata": {},
   "outputs": [],
   "source": []
  }
 ],
 "metadata": {
  "kernelspec": {
   "display_name": "Python 3",
   "language": "python",
   "name": "python3"
  },
  "language_info": {
   "codemirror_mode": {
    "name": "ipython",
    "version": 3
   },
   "file_extension": ".py",
   "mimetype": "text/x-python",
   "name": "python",
   "nbconvert_exporter": "python",
   "pygments_lexer": "ipython3",
   "version": "3.7.3"
  }
 },
 "nbformat": 4,
 "nbformat_minor": 2
}
