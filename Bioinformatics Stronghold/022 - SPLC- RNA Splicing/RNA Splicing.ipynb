{
 "cells": [
  {
   "cell_type": "markdown",
   "metadata": {},
   "source": [
    "# SPLC- RNA Splicing"
   ]
  },
  {
   "cell_type": "code",
   "execution_count": 1,
   "metadata": {},
   "outputs": [
    {
     "name": "stdout",
     "output_type": "stream",
     "text": [
      "MVYIADKQHVASREAYGHMFKVCA\n"
     ]
    }
   ],
   "source": [
    "from Bio import SeqIO                          \n",
    "from Bio.Seq import Seq                        \n",
    "from Bio.Alphabet import generic_dna           \n",
    "\n",
    "sequences = []                                 \n",
    "handle = open('sampledata.fasta', 'r')         \n",
    "for record in SeqIO.parse(handle, 'fasta'):    \n",
    "    sequence = ''                              \n",
    "    for nt in record.seq:                      \n",
    "        sequence += nt                         \n",
    "    sequences.append(sequence)                 \n",
    "handle.close()                                 \n",
    "\n",
    "long_seq = sequences[0]                        \n",
    "introns = sequences[1:]                        \n",
    "\n",
    "for i in range(len(introns)):                  \n",
    "    long_seq = long_seq.replace(introns[i], '')\n",
    "\n",
    "long_seq = Seq(long_seq)                       \n",
    "print(long_seq.translate(to_stop=True)) "
   ]
  }
 ],
 "metadata": {
  "kernelspec": {
   "display_name": "Python 3",
   "language": "python",
   "name": "python3"
  },
  "language_info": {
   "codemirror_mode": {
    "name": "ipython",
    "version": 3
   },
   "file_extension": ".py",
   "mimetype": "text/x-python",
   "name": "python",
   "nbconvert_exporter": "python",
   "pygments_lexer": "ipython3",
   "version": "3.7.3"
  }
 },
 "nbformat": 4,
 "nbformat_minor": 2
}
