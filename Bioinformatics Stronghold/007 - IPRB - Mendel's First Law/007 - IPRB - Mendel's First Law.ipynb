{
 "cells": [
  {
   "cell_type": "markdown",
   "metadata": {},
   "source": [
    "# 007 - IPRB - Mendel's First Law"
   ]
  },
  {
   "cell_type": "markdown",
   "metadata": {},
   "source": [
    "هذا الكود يساعدك في حساب احتمالية أنتاج صفة سائدة عند التزاوج بشكل عشوائي بين اي كائنين"
   ]
  },
  {
   "cell_type": "markdown",
   "metadata": {},
   "source": [
    "### الكود"
   ]
  },
  {
   "cell_type": "markdown",
   "metadata": {},
   "source": [
    "ادخل عدد الافراد\n",
    "\n",
    "k(متماثل الجينات سائد)\n",
    "\n",
    "m(متباين الازدواج)\n",
    "\n",
    "n(متماثل الجيناات متنحي)"
   ]
  },
  {
   "cell_type": "code",
   "execution_count": null,
   "metadata": {},
   "outputs": [],
   "source": [
    "#define k,m,n\n",
    "k,m,n = 2,2,2"
   ]
  },
  {
   "cell_type": "markdown",
   "metadata": {},
   "source": [
    "احسب المجموع"
   ]
  },
  {
   "cell_type": "code",
   "execution_count": null,
   "metadata": {},
   "outputs": [],
   "source": [
    "tot = float(k+m+n)"
   ]
  },
  {
   "cell_type": "code",
   "execution_count": null,
   "metadata": {},
   "outputs": [],
   "source": [
    "اطبع الناتج"
   ]
  },
  {
   "cell_type": "code",
   "execution_count": 1,
   "metadata": {},
   "outputs": [
    {
     "name": "stdout",
     "output_type": "stream",
     "text": [
      "0.7833333333333333\n"
     ]
    }
   ],
   "source": [
    "print (1 - (n/tot)*((n-1)/(tot-1)) - (n/tot)*(m/(tot-1)) - (m/tot)*((m-1)/(tot-1))*0.25)"
   ]
  }
 ],
 "metadata": {
  "kernelspec": {
   "display_name": "Python 3",
   "language": "python",
   "name": "python3"
  },
  "language_info": {
   "codemirror_mode": {
    "name": "ipython",
    "version": 3
   },
   "file_extension": ".py",
   "mimetype": "text/x-python",
   "name": "python",
   "nbconvert_exporter": "python",
   "pygments_lexer": "ipython3",
   "version": "3.7.3"
  }
 },
 "nbformat": 4,
 "nbformat_minor": 2
}
