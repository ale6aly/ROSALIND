{
 "cells": [
  {
   "cell_type": "markdown",
   "metadata": {},
   "source": [
    "# 024 - LGIS - Longest Increasing Subsequence"
   ]
  },
  {
   "cell_type": "markdown",
   "metadata": {},
   "source": [
    "في هذه المشكلة يتم منحنا مبادلة بطول ن ويطلب منا أن نجد أطول زيادة وتناقص تسلسل فرعي من هذة المبادلة."
   ]
  },
  {
   "cell_type": "code",
   "execution_count": 7,
   "metadata": {},
   "outputs": [
    {
     "name": "stdout",
     "output_type": "stream",
     "text": [
      "13 15 30 126 152 157 238 240 241 291 352 455 480 575 668 729 746 805 810 823 843 940 957 981 1027 1039 1053 1083 1196 1219 1373 1378 1447 1469 1510 1512 1529 1544 1552 1565 1604 1692 1737 1755 1815 1820 1849 1955 1973 2013 2163 2170 2244 2371 2482 2500 2548 2630 2735 2776 2881 2908 2941 2997 2998 3025 3036 3055 3073 3078 3160 3246 3257 3261 3367 3383 3393 3401 3407 3409 3489 3559 3683 3701 3725 3727 3763 3801 3811 3967 3974 4017 4069 4174 4305 4339 4400 4462 4496 4530 4538 4572 4643 4723 4761 4764 4770 4785 4835 4997 5069 5093 5197 5221 5238 5276 5331 5376 5464 5593 5594 5665 5720 5755 5858 5861 5997 6008 6098 6208 6243 6269 6328 6423 6435 6441 6462 6500 6576 6612 6614 6616 6635 6719 6857 6939 7050 7138 7142 7310 7314 7335 7359 7362 7410 7420 7453 7467 7618 7652 7698 7700 7855 7861 7862 7870 7925 8013\n",
      "8017 8006 7921 7850 7849 7800 7745 7522 7495 7477 7396 7394 7380 7324 7302 7291 7250 7218 7184 7134 7102 7004 6884 6876 6853 6852 6844 6771 6740 6706 6615 6568 6539 6488 6454 6434 6381 6303 6254 6076 6064 6061 5819 5754 5683 5591 5572 5398 5357 5255 5226 5211 5206 5179 5146 5057 4998 4996 4951 4936 4925 4886 4878 4874 4862 4779 4774 4739 4714 4685 4639 4610 4576 4510 4476 4472 4442 4440 4406 4402 4398 4375 4337 4324 4280 4246 4210 4156 4129 4109 4048 4046 4020 3978 3974 3925 3902 3891 3835 3774 3769 3746 3702 3700 3658 3641 3598 3586 3452 3432 3364 3256 3250 3247 3229 3139 3104 3089 3072 3031 2954 2859 2763 2661 2640 2602 2582 2570 2550 2437 2354 2336 2278 2269 2232 2199 2169 1964 1942 1913 1839 1810 1618 1612 1589 1524 1445 1430 1286 1259 1231 1221 1200 1159 1149 1093 1028 1023 961 946 757 742 595 561 524 505 445 333 293 181 172\n"
     ]
    }
   ],
   "source": [
    "data = []\n",
    "with open('rosalind_lgis.txt', 'r') as f:   \n",
    "    for line in f:                       \n",
    "        for nr in line.split():          \n",
    "            data.append(int(nr))         \n",
    "perm = data[1:]\n",
    "\n",
    "\n",
    "def increasing(seq):\n",
    "    P = [None] * len(seq)\n",
    "    M = [None] * len(seq)\n",
    "\n",
    "    L = 1\n",
    "    M[0] = 0\n",
    "    for i in range(1, len(seq)):\n",
    "        lo = 0\n",
    "        hi = L\n",
    "        if seq[M[hi - 1]] < seq[i]:\n",
    "            j = hi\n",
    "        else:\n",
    "            while hi - lo > 1:\n",
    "                mid = (hi + lo) // 2\n",
    "                if seq[M[mid - 1]] < seq[i]:\n",
    "                    lo = mid\n",
    "                else:\n",
    "                    hi = mid\n",
    "\n",
    "            j = lo\n",
    "        P[i] = M[j - 1]\n",
    "        if j == L or seq[i] < seq[M[j]]:\n",
    "            M[j] = i\n",
    "            L = max(L, j + 1)\n",
    "\n",
    "    result = []\n",
    "    pos = M[L - 1]\n",
    "    for k in range(L):\n",
    "        result.append(seq[pos])\n",
    "        pos = P[pos]\n",
    "\n",
    "    return (result[::-1])\n",
    "\n",
    "\n",
    "def decreasing(seq):\n",
    "    P = [None] * len(seq)\n",
    "    M = [None] * len(seq)\n",
    "\n",
    "    L = 1\n",
    "    M[0] = 0\n",
    "    for i in range(1, len(seq)):\n",
    "        lo = 0\n",
    "        hi = L\n",
    "        if seq[M[hi - 1]] > seq[i]:\n",
    "            j = hi\n",
    "        else:\n",
    "            while hi - lo > 1:\n",
    "                mid = (hi + lo) // 2\n",
    "                if seq[M[mid - 1]] > seq[i]:\n",
    "                    lo = mid\n",
    "                else:\n",
    "                    hi = mid\n",
    "\n",
    "            j = lo\n",
    "        P[i] = M[j - 1]\n",
    "        if j == L or seq[i] > seq[M[j]]:\n",
    "            M[j] = i\n",
    "            L = max(L, j + 1)\n",
    "\n",
    "    result = []\n",
    "    pos = M[L - 1]\n",
    "    for k in range(L):\n",
    "        result.append(seq[pos])\n",
    "        pos = P[pos]\n",
    "\n",
    "    return (result[::-1])\n",
    "\n",
    "incr = increasing(perm)\n",
    "decr = decreasing(perm)\n",
    "\n",
    "print(*incr)\n",
    "print(*decr)"
   ]
  },
  {
   "cell_type": "code",
   "execution_count": null,
   "metadata": {},
   "outputs": [],
   "source": []
  }
 ],
 "metadata": {
  "kernelspec": {
   "display_name": "Python 3",
   "language": "python",
   "name": "python3"
  },
  "language_info": {
   "codemirror_mode": {
    "name": "ipython",
    "version": 3
   },
   "file_extension": ".py",
   "mimetype": "text/x-python",
   "name": "python",
   "nbconvert_exporter": "python",
   "pygments_lexer": "ipython3",
   "version": "3.7.3"
  }
 },
 "nbformat": 4,
 "nbformat_minor": 2
}
