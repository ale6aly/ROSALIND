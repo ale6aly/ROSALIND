{
 "cells": [
  {
   "cell_type": "markdown",
   "metadata": {},
   "source": [
    "# 006 - HAMM - Counting Point Mutations"
   ]
  },
  {
   "cell_type": "markdown",
   "metadata": {},
   "source": [
    "الي يساعدنا الكود فيه هو حساب مسافة هامينج\n",
    "\n",
    "Hamming distance\n",
    "\n",
    "وهو ببساطة عدد الحروف المختلفة بين سلسلتين من نفس الطول"
   ]
  },
  {
   "cell_type": "markdown",
   "metadata": {},
   "source": [
    "### الكود"
   ]
  },
  {
   "cell_type": "markdown",
   "metadata": {},
   "source": [
    "نبدأ بتجميل الملف الي يحتوي على سلسلتين"
   ]
  },
  {
   "cell_type": "code",
   "execution_count": 4,
   "metadata": {},
   "outputs": [],
   "source": [
    "f = open(\"rosalind_hamm.txt\", \"r\")\n",
    "array = f.readlines()"
   ]
  },
  {
   "cell_type": "markdown",
   "metadata": {},
   "source": [
    "نحفظ كل سلسلة في متغير خاص فيها"
   ]
  },
  {
   "cell_type": "code",
   "execution_count": 5,
   "metadata": {},
   "outputs": [],
   "source": [
    "string_a = array[0]\n",
    "string_b = array[1]"
   ]
  },
  {
   "cell_type": "markdown",
   "metadata": {},
   "source": [
    "هذا المتغير الي نبيه طبعا يبدأ بصفر قبل البدايه"
   ]
  },
  {
   "cell_type": "code",
   "execution_count": 6,
   "metadata": {},
   "outputs": [],
   "source": [
    "distance = 0"
   ]
  },
  {
   "cell_type": "markdown",
   "metadata": {},
   "source": [
    "اللوب هذا بيمر على كل مكان متطابق في السلسلتين\n",
    "\n",
    "اذا مختلف بيزيد واحد على المتغير اذا متشابه  بيتجاهلة ويروح للمكان الي بعده"
   ]
  },
  {
   "cell_type": "code",
   "execution_count": 7,
   "metadata": {},
   "outputs": [],
   "source": [
    "for k in range(len(string_a)):\n",
    "    if string_a[k] != string_b[k]:\n",
    "        distance = distance + 1"
   ]
  },
  {
   "cell_type": "markdown",
   "metadata": {},
   "source": [
    "نطبع المتغير"
   ]
  },
  {
   "cell_type": "code",
   "execution_count": 8,
   "metadata": {},
   "outputs": [
    {
     "name": "stdout",
     "output_type": "stream",
     "text": [
      "454\n"
     ]
    }
   ],
   "source": [
    "print (distance)"
   ]
  }
 ],
 "metadata": {
  "kernelspec": {
   "display_name": "Python 3",
   "language": "python",
   "name": "python3"
  },
  "language_info": {
   "codemirror_mode": {
    "name": "ipython",
    "version": 3
   },
   "file_extension": ".py",
   "mimetype": "text/x-python",
   "name": "python",
   "nbconvert_exporter": "python",
   "pygments_lexer": "ipython3",
   "version": "3.7.3"
  }
 },
 "nbformat": 4,
 "nbformat_minor": 2
}
