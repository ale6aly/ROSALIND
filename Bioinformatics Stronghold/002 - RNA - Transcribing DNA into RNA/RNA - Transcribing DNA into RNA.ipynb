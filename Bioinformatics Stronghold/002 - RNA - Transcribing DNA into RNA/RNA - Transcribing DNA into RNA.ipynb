{
 "cells": [
  {
   "cell_type": "markdown",
   "metadata": {},
   "source": [
    "# 002 - RNA - Transcribing DNA into RNA"
   ]
  },
  {
   "cell_type": "markdown",
   "metadata": {},
   "source": [
    "الكود هذا جدا سهل وتقدر تسوية بكذا طريقة - الطريقة الأولى"
   ]
  },
  {
   "cell_type": "markdown",
   "metadata": {},
   "source": [
    "اول شي نسوي لصق لسلسة الدي ان اي بعد هذا الامر موجوده في الملف - ولو تبي تحمل الملف على طول تقدر تراجع االكود 001"
   ]
  },
  {
   "cell_type": "code",
   "execution_count": 4,
   "metadata": {},
   "outputs": [],
   "source": [
    "dna = \"AAGGTGTATCTGTATAGGCCGACTAGACGGTACATCGATCCCCGTATTCTCTCGGACGTTGGGTTGTTACAGCGCCCGTTCGTACTGATTGAATGGATATCTGGGACAGACGGTGCAGCTTGGTCCCAGCCGTTAACACCCAAAGCAAGCGTGGGTATATTTATCCGACTTCTGGTAACTTCACCTGCCCGGCGCAAGTGAGACTTACGTCCTTCGGCTGTCTTACCAACCGACCCCGTAGCCCATTTTAATTGATGCCTTATCCAAACCCGAGCAACAGCTTGGTCCCCTCACCAAGGGGCTTATCTCACCCGGGCACCAGGAAGACCCCTTGTCATTAAACCGATCTCGCATGTCACCGGGGAAGAAAGAGGAGGTAAACTGCTCCGCCGTGGAGGGCCAACAGGCCGCAGGACGACATAGTGACACCTAGGTAATATCGGTTCGGTTGATTAGACGAGATCCCCTTCTCGGTTCAGTGTTTATCGAGCACCTCATCACATATTTGCTATGGGGTGGGGAATTAACATCATGCTCGTCATCCCGTCGAGTCCACACGGGTTAATGATCAGCCGCGGGAATCCAATCCTATAACTCGTGTATAACTTGGATTGAGCTCCATTTGTGAGAGGTAGGCACCATTACCAGCGTACCGACGCTGGACCTATCCGCTTAAAGGGGTCTTGTAGTGGAAGGGATCCTTTATTATCATGCCACCATGATGTACTGCAGGGCCCGGGCGGCTCGCGTGCAGTGGGTGTGACCGAAATCGTAGCGCGCTGGCTTAAATATACCGACAAGTGTTGAACCCTTCCAAGCTTAGGAGGAGGTTCGAAAAGTTTTTTTCTGCCCGACATTCTGCGGAAGCTTCAGACGTATTCGTTGTGGCAAAAGCCTTCTGCGTCCTAATGCGGTCCGGTGA\""
   ]
  },
  {
   "cell_type": "markdown",
   "metadata": {},
   "source": [
    "الامر هذا يغير الحرف الي تبيه يتغير الى الحرف الثاني ويخزنه في نفس المتغير"
   ]
  },
  {
   "cell_type": "code",
   "execution_count": 2,
   "metadata": {},
   "outputs": [],
   "source": [
    "dna = dna.replace(\"T\", \"U\")"
   ]
  },
  {
   "cell_type": "markdown",
   "metadata": {},
   "source": [
    "نطبع المتغير حقنا بعد التغيير"
   ]
  },
  {
   "cell_type": "code",
   "execution_count": 5,
   "metadata": {},
   "outputs": [
    {
     "name": "stdout",
     "output_type": "stream",
     "text": [
      "AAGGTGTATCTGTATAGGCCGACTAGACGGTACATCGATCCCCGTATTCTCTCGGACGTTGGGTTGTTACAGCGCCCGTTCGTACTGATTGAATGGATATCTGGGACAGACGGTGCAGCTTGGTCCCAGCCGTTAACACCCAAAGCAAGCGTGGGTATATTTATCCGACTTCTGGTAACTTCACCTGCCCGGCGCAAGTGAGACTTACGTCCTTCGGCTGTCTTACCAACCGACCCCGTAGCCCATTTTAATTGATGCCTTATCCAAACCCGAGCAACAGCTTGGTCCCCTCACCAAGGGGCTTATCTCACCCGGGCACCAGGAAGACCCCTTGTCATTAAACCGATCTCGCATGTCACCGGGGAAGAAAGAGGAGGTAAACTGCTCCGCCGTGGAGGGCCAACAGGCCGCAGGACGACATAGTGACACCTAGGTAATATCGGTTCGGTTGATTAGACGAGATCCCCTTCTCGGTTCAGTGTTTATCGAGCACCTCATCACATATTTGCTATGGGGTGGGGAATTAACATCATGCTCGTCATCCCGTCGAGTCCACACGGGTTAATGATCAGCCGCGGGAATCCAATCCTATAACTCGTGTATAACTTGGATTGAGCTCCATTTGTGAGAGGTAGGCACCATTACCAGCGTACCGACGCTGGACCTATCCGCTTAAAGGGGTCTTGTAGTGGAAGGGATCCTTTATTATCATGCCACCATGATGTACTGCAGGGCCCGGGCGGCTCGCGTGCAGTGGGTGTGACCGAAATCGTAGCGCGCTGGCTTAAATATACCGACAAGTGTTGAACCCTTCCAAGCTTAGGAGGAGGTTCGAAAAGTTTTTTTCTGCCCGACATTCTGCGGAAGCTTCAGACGTATTCGTTGTGGCAAAAGCCTTCTGCGTCCTAATGCGGTCCGGTGA\n"
     ]
    }
   ],
   "source": [
    "print(dna)"
   ]
  },
  {
   "cell_type": "markdown",
   "metadata": {},
   "source": [
    "\n",
    "الطريقه الثانيه انك تحطهم كلهم في في سطر واحد -عشان كذا ليش البايثون عظيم"
   ]
  },
  {
   "cell_type": "code",
   "execution_count": 10,
   "metadata": {},
   "outputs": [
    {
     "name": "stdout",
     "output_type": "stream",
     "text": [
      "AAGGTGTATCTGT\n",
      "AAGGUGUAUCUGU\n"
     ]
    }
   ],
   "source": [
    "print (input().replace('T','U'))"
   ]
  },
  {
   "cell_type": "markdown",
   "metadata": {},
   "source": [
    "    "
   ]
  },
  {
   "cell_type": "markdown",
   "metadata": {},
   "source": [
    "الطريق الثانيه خاصه اذا عندك ملفات كبيره انك تستخدم الباش وبيغير لك اياها اسرع وبفعالية اكبر "
   ]
  },
  {
   "cell_type": "code",
   "execution_count": null,
   "metadata": {},
   "outputs": [],
   "source": [
    "cat rosalind_rna.txt | tr T U"
   ]
  }
 ],
 "metadata": {
  "kernelspec": {
   "display_name": "Python 3",
   "language": "python",
   "name": "python3"
  },
  "language_info": {
   "codemirror_mode": {
    "name": "ipython",
    "version": 3
   },
   "file_extension": ".py",
   "mimetype": "text/x-python",
   "name": "python",
   "nbconvert_exporter": "python",
   "pygments_lexer": "ipython3",
   "version": "3.6.5"
  }
 },
 "nbformat": 4,
 "nbformat_minor": 2
}
