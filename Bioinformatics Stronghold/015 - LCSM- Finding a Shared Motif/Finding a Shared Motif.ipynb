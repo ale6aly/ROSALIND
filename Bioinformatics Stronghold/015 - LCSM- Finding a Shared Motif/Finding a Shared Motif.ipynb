{
 "cells": [
  {
   "cell_type": "markdown",
   "metadata": {},
   "source": [
    "# 015 - LCSM- Finding a Shared Motif"
   ]
  },
  {
   "cell_type": "markdown",
   "metadata": {},
   "source": [
    "في هذة المسأله يبغى منك تطلع أطول سلسله فرعيه مشتركة بين عدد من السلاسل\n",
    "\n",
    "longest common subsequence"
   ]
  },
  {
   "cell_type": "markdown",
   "metadata": {},
   "source": [
    "حط في بالك الكود يحتاج كمبيوتر سريع وياخذ فترة طويلة"
   ]
  },
  {
   "cell_type": "code",
   "execution_count": 3,
   "metadata": {},
   "outputs": [
    {
     "name": "stdout",
     "output_type": "stream",
     "text": [
      "AATAAGGACACACGCGACCCATGCTGAGGGGGGAGTG\n"
     ]
    }
   ],
   "source": [
    "def readfasta(filename, sample):\n",
    "    fa = open(filename, 'r')\n",
    "    fo = open(sample, 'w')\n",
    "    res = {}\n",
    "    rres = []\n",
    "    ID = ''\n",
    "    for line in fa:\n",
    "        if line.startswith('>'):\n",
    "            ID = line.strip('\\n')\n",
    "            res[ID] = ''\n",
    "        else:\n",
    "            res[ID] += line.strip('\\n')\n",
    " \n",
    "    for key in res.values():\n",
    "        rres.append(key)\n",
    "        fo.write(key + '\\n')\n",
    "    return rres\n",
    "\n",
    "def fragement(seq_list):\n",
    "    res = []\n",
    "    seq = seq_list[0]\n",
    "    for i in range(len(seq)):\n",
    "        s_seq = seq[i:]\n",
    "        for j in range(len(s_seq)):\n",
    "            res.append(s_seq[:(len(s_seq) - j)])\n",
    "    return res\n",
    " \n",
    "def main(infile, sample):\n",
    "    seq_list = readfasta(infile, sample)\n",
    "    frags = fragement(seq_list)\n",
    "    frags.sort(key=len, reverse=True)\n",
    "    for i in range(len(frags)):\n",
    "        ans = []\n",
    "        for j in seq_list:\n",
    "            r = j.count(frags[i])\n",
    "            if r != 0:\n",
    "                ans.append(r)\n",
    "        if len(ans) >= len(seq_list):\n",
    "            print(frags[i])\n",
    "            break\n",
    " \n",
    " \n",
    "main('rosalind_lcsm.txt', 'a.txt')"
   ]
  }
 ],
 "metadata": {
  "kernelspec": {
   "display_name": "Python 3",
   "language": "python",
   "name": "python3"
  },
  "language_info": {
   "codemirror_mode": {
    "name": "ipython",
    "version": 3
   },
   "file_extension": ".py",
   "mimetype": "text/x-python",
   "name": "python",
   "nbconvert_exporter": "python",
   "pygments_lexer": "ipython3",
   "version": "3.7.3"
  }
 },
 "nbformat": 4,
 "nbformat_minor": 2
}
