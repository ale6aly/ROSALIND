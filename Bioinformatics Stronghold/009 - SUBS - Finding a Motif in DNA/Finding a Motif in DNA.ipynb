{
 "cells": [
  {
   "cell_type": "markdown",
   "metadata": {},
   "source": [
    "# 009 - SUBS - Finding a Motif in DNA"
   ]
  },
  {
   "cell_type": "markdown",
   "metadata": {},
   "source": [
    "فكرة هالكود انه ياخذلك متسلسلتين حمض نووي - وحدة طويلة والثانيه قصيره- ويشوف وين الأماكن الي تطابق بينهم "
   ]
  },
  {
   "cell_type": "markdown",
   "metadata": {},
   "source": [
    "نبدأ بنسخ المتسلسلتين"
   ]
  },
  {
   "cell_type": "code",
   "execution_count": 7,
   "metadata": {},
   "outputs": [],
   "source": [
    "dnaSeq = \"GATATATGCATATACTT\"\n",
    "subSeq = \"ATAT\""
   ]
  },
  {
   "cell_type": "markdown",
   "metadata": {},
   "source": [
    "هذا الكود يبدأ من السلسلة الطويلة خطوه بخطوة\n",
    "واذا حصل تطابق بين الاثنين يطبعلك الرقم + 1\n",
    "\n",
    "الزيادة لأن البايثون يبدأيحسب من الصفر وليس الواحد في السلسلة"
   ]
  },
  {
   "cell_type": "code",
   "execution_count": 8,
   "metadata": {},
   "outputs": [
    {
     "name": "stdout",
     "output_type": "stream",
     "text": [
      "2\n",
      "4\n",
      "10\n"
     ]
    }
   ],
   "source": [
    "for i in range(len(dnaSeq)):\n",
    "    if dnaSeq[i:].startswith(subSeq):\n",
    "        print (i+1)"
   ]
  }
 ],
 "metadata": {
  "kernelspec": {
   "display_name": "Python 3",
   "language": "python",
   "name": "python3"
  },
  "language_info": {
   "codemirror_mode": {
    "name": "ipython",
    "version": 3
   },
   "file_extension": ".py",
   "mimetype": "text/x-python",
   "name": "python",
   "nbconvert_exporter": "python",
   "pygments_lexer": "ipython3",
   "version": "3.7.3"
  }
 },
 "nbformat": 4,
 "nbformat_minor": 2
}
