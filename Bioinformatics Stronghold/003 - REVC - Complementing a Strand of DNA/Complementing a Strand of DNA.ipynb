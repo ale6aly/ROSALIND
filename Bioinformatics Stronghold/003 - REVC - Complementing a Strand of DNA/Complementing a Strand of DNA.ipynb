{
 "cells": [
  {
   "cell_type": "markdown",
   "metadata": {},
   "source": [
    "# 003 - REVC - Complementing a Strand of DNA"
   ]
  },
  {
   "cell_type": "markdown",
   "metadata": {},
   "source": [
    "كأي مشكلة برمجية هناك حلول عديدة"
   ]
  },
  {
   "cell_type": "markdown",
   "metadata": {},
   "source": [
    "### الحل الاول\n",
    "\n",
    "نحفظ السلسة في متغير"
   ]
  },
  {
   "cell_type": "code",
   "execution_count": 10,
   "metadata": {},
   "outputs": [],
   "source": [
    "dna = \"AAAACCCGGT\""
   ]
  },
  {
   "cell_type": "markdown",
   "metadata": {},
   "source": [
    "نعين متغير ثاني جاهز لتعبئة البيانات الجديدة"
   ]
  },
  {
   "cell_type": "code",
   "execution_count": 11,
   "metadata": {},
   "outputs": [],
   "source": [
    "rev = ''"
   ]
  },
  {
   "cell_type": "markdown",
   "metadata": {},
   "source": [
    "هذا اللوب بيمر على الحروف في السلسة الي نريد تغييرها ويحولها الى الحروف الجديده"
   ]
  },
  {
   "cell_type": "code",
   "execution_count": 12,
   "metadata": {},
   "outputs": [
    {
     "name": "stdout",
     "output_type": "stream",
     "text": [
      "ACCGGGTTTT\n"
     ]
    }
   ],
   "source": [
    "for c in dna:\n",
    "    if c == 'A':\n",
    "        rev = 'T' + rev\n",
    "    elif c == 'C':\n",
    "        rev = 'G' + rev\n",
    "    elif c == 'G':\n",
    "        rev = 'C' + rev\n",
    "    elif c == 'T':\n",
    "        rev = 'A' + rev\n",
    "print (rev)"
   ]
  },
  {
   "cell_type": "markdown",
   "metadata": {},
   "source": [
    "### الحل الثاني\n",
    "\n",
    "بأستخدام امر replace"
   ]
  },
  {
   "cell_type": "markdown",
   "metadata": {},
   "source": [
    "لاحظ الامر الي في اخر الكود هو الي يعكس السلسة"
   ]
  },
  {
   "cell_type": "code",
   "execution_count": 13,
   "metadata": {},
   "outputs": [
    {
     "name": "stdout",
     "output_type": "stream",
     "text": [
      "ACCGGGTTTT\n"
     ]
    }
   ],
   "source": [
    "st = dna.replace('A', 't').replace('T', 'a').replace('C', 'g').replace('G', 'c').upper()[::-1]\n",
    "print (st)"
   ]
  },
  {
   "cell_type": "markdown",
   "metadata": {},
   "source": [
    "### الحل الثالث\n",
    "\n",
    "بأستخدام الباش #bash"
   ]
  },
  {
   "cell_type": "code",
   "execution_count": null,
   "metadata": {},
   "outputs": [],
   "source": [
    "$ cat rosalind2.txt | tr 'ACGT' 'TGCA' | rev"
   ]
  }
 ],
 "metadata": {
  "kernelspec": {
   "display_name": "Python 3",
   "language": "python",
   "name": "python3"
  },
  "language_info": {
   "codemirror_mode": {
    "name": "ipython",
    "version": 3
   },
   "file_extension": ".py",
   "mimetype": "text/x-python",
   "name": "python",
   "nbconvert_exporter": "python",
   "pygments_lexer": "ipython3",
   "version": "3.6.5"
  }
 },
 "nbformat": 4,
 "nbformat_minor": 2
}
