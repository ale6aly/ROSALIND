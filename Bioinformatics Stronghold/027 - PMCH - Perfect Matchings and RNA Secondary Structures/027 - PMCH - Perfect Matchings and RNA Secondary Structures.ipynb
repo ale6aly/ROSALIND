{
 "cells": [
  {
   "cell_type": "markdown",
   "metadata": {},
   "source": [
    "# 027 - PMCH - Perfect Matchings and RNA Secondary Structures"
   ]
  },
  {
   "cell_type": "markdown",
   "metadata": {},
   "source": [
    "هذه مشكلة أخرى حيث البرمجة بسيطة حقا ، لكننا بحاجة أيضا معرفة الرياضيات قبل أن نتمكن من كتابة البرنامج."
   ]
  },
  {
   "cell_type": "markdown",
   "metadata": {},
   "source": [
    "ما نحتاج إلى إدراكه هو أن ما ننظر إليه يمكن أن ينظر إليه على أنه رسوم منفصلة، أحدهما للترابط مع \n",
    "AU\n",
    "وواحد للترابط مع \n",
    "GC\n",
    "\n",
    "ببساطة أضرب هذه الأرقام للحصول على العدد الإجمالي للمطابقة المثالية\n",
    "\n",
    "matchings = n1! * n2!"
   ]
  },
  {
   "cell_type": "code",
   "execution_count": 4,
   "metadata": {},
   "outputs": [
    {
     "name": "stdout",
     "output_type": "stream",
     "text": [
      "50903097535173096709816320000000\n"
     ]
    }
   ],
   "source": [
    "from Bio import SeqIO                      \n",
    "from math import factorial                 \n",
    "sequence = ''                              \n",
    "handle = open('rosalind_pmch.txt', 'r')     \n",
    "for record in SeqIO.parse(handle, 'fasta'):\n",
    "    sequence = str(record.seq)             \n",
    "handle.close()                             \n",
    "\n",
    "AU = 0                                     \n",
    "GC = 0                                     \n",
    "for nt in sequence:                        \n",
    "    if nt == 'A':                          \n",
    "        AU += 1                            \n",
    "    elif nt == 'G':                        \n",
    "        GC += 1                            \n",
    "\n",
    "matchings = factorial(AU) * factorial(GC)  \n",
    "print(matchings)"
   ]
  }
 ],
 "metadata": {
  "kernelspec": {
   "display_name": "Python 3",
   "language": "python",
   "name": "python3"
  },
  "language_info": {
   "codemirror_mode": {
    "name": "ipython",
    "version": 3
   },
   "file_extension": ".py",
   "mimetype": "text/x-python",
   "name": "python",
   "nbconvert_exporter": "python",
   "pygments_lexer": "ipython3",
   "version": "3.7.3"
  }
 },
 "nbformat": 4,
 "nbformat_minor": 2
}
