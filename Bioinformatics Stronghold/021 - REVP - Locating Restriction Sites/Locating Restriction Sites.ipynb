{
 "cells": [
  {
   "cell_type": "markdown",
   "metadata": {},
   "source": [
    "# Locating Restriction Sites"
   ]
  },
  {
   "cell_type": "markdown",
   "metadata": {},
   "source": [
    "في هذة المسأله يطلب منا ان نجد سِياقٌ مُتَناظِر في دي ان اي فيروسي \n",
    "\n",
    "palindrome\n",
    "\n",
    "الفايده ان الا اماكن هذة عادة ما يتم القص من خلالها بوساطة إنزيمات القطع\n",
    "\n",
    "Restriction Enzymes"
   ]
  },
  {
   "cell_type": "markdown",
   "metadata": {},
   "source": [
    "للتسهيل معنى \n",
    "\n",
    "palindrome\n",
    "\n",
    "لفظ لا يتغير إذا قرئ طردآ أو عكسآ؛ لَفْظَةٌ تُقْرَأُ طَرْدًا وعَكْسًا؛ لفظة تقرأ طردا وعكسا\n",
    "\n",
    "مثال على ذلك  كلمة\n",
    "\n",
    "madam \n",
    "\n",
    "تنقري من الطرفين بنفس الطريقة"
   ]
  },
  {
   "cell_type": "code",
   "execution_count": 4,
   "metadata": {},
   "outputs": [
    {
     "name": "stdout",
     "output_type": "stream",
     "text": [
      "4 6\n",
      "5 4\n",
      "6 6\n",
      "7 4\n",
      "17 4\n",
      "18 4\n",
      "20 6\n",
      "21 4\n"
     ]
    }
   ],
   "source": [
    "from Bio import SeqIO # حزمة biopython                          \n",
    "\n",
    "record = SeqIO.read('sampledata.fasta', 'fasta') #تحميل البيانات بصيغة فاستا\n",
    "frw_seq = str(record.seq) # تخزين السلسة الأصليه                      \n",
    "rev_seq = str(record.seq.complement())# توليد وتخزين السلسة العكسية       \n",
    "\n",
    "for i in range(len(frw_seq)):   # خوارزمية تمر على السيكونس الاصلي وتطابق مع السيكونس العكسي لأيجاد السياق              \n",
    "    for j in range(i, len(frw_seq)):            \n",
    "        m = frw_seq[i:j + 1]                    \n",
    "        rev_m = rev_seq[i:j + 1]                \n",
    "        if len(m) >= 4 and len(m) <= 12:        \n",
    "            if m == rev_m[::-1]:                \n",
    "                print(i + 1, len(m)) # وقت الطباعة نزيد واحد لان البايثون يبدأالعد من صفر ونحتاج المكان بالضبط"
   ]
  }
 ],
 "metadata": {
  "kernelspec": {
   "display_name": "Python 3",
   "language": "python",
   "name": "python3"
  },
  "language_info": {
   "codemirror_mode": {
    "name": "ipython",
    "version": 3
   },
   "file_extension": ".py",
   "mimetype": "text/x-python",
   "name": "python",
   "nbconvert_exporter": "python",
   "pygments_lexer": "ipython3",
   "version": "3.7.3"
  }
 },
 "nbformat": 4,
 "nbformat_minor": 2
}
