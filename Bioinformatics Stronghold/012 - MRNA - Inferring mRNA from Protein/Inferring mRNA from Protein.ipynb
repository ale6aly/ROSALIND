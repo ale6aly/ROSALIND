{
 "cells": [
  {
   "cell_type": "markdown",
   "metadata": {},
   "source": [
    "# 012 - MRNA - Inferring mRNA from Protein"
   ]
  },
  {
   "cell_type": "markdown",
   "metadata": {},
   "source": [
    "الفكره في هذة المسأله هو حساب عدد ال mRNA \n",
    "\n",
    "الي يكون محتمل انه انتج متسلسلة بروتين محدده\n",
    "\n",
    "طبعا هذة مشكله كبيره لأن العدد بيصير فلكي \n",
    "\n",
    "عشان كذا بنستخدم الموديلو او الباقي"
   ]
  },
  {
   "cell_type": "markdown",
   "metadata": {},
   "source": [
    " "
   ]
  },
  {
   "cell_type": "markdown",
   "metadata": {},
   "source": [
    "اول شي نسوي قاموس يوجد فيه احتملات الار ان اي لكل بروتين"
   ]
  },
  {
   "cell_type": "code",
   "execution_count": 58,
   "metadata": {},
   "outputs": [],
   "source": [
    "codons = {'F':['UUU','UUC'],\n",
    "          'L':['UUA','UUG','CUU','CUC','CUA','CUG'],\n",
    "          'S':['UCU','UCC','UCA','UCG','AGU','AGC'],\n",
    "          'Y':['UAU','UAC'],\n",
    "          '*':['UAA','UAG','UGA'],\n",
    "          'C':['UGU','UGC'],\n",
    "          'W':['UGG'],\n",
    "          'P':['CCU','CCC','CCA','CCG'],\n",
    "          'H':['CAU','CAC'],\n",
    "          'Q':['CAA','CAG'],\n",
    "          'R':['CGU','CGC','CGA','CGG','AGA','AGG'],\n",
    "          'V':['GUU','GUC','GUA','GUG'],\n",
    "          'A':['GCU','GCC','GCA','GCG'],\n",
    "          'D':['GAU','GAC'],\n",
    "          'E':['GAA','GAG'],\n",
    "          'G':['GGU','GGC','GGA','GGG'],\n",
    "          'I':['AUU','AUC','AUA'],\n",
    "          'M':['AUG'],\n",
    "          'T':['ACU','ACC','ACA','ACG'],\n",
    "          'N':['AAU','AAC'],\n",
    "          'K':['AAA','AAG']}"
   ]
  },
  {
   "cell_type": "markdown",
   "metadata": {},
   "source": [
    "نسوي خوارزمية تاخذ متسلسلة البروتين\n",
    "\n",
    "ولكل حرف بروتين نضرب العدد الحالي بعدد احتمالات الار ان اي لكل بروتين ونقسمة على \n",
    "\n",
    "1000000\n",
    "\n",
    "بعدين ناخذ الباقي ويصير العدد الجديد\n",
    "\n",
    "ونمشي على هالمنوال لين اخر حرف وبيطلع العدد النهائي"
   ]
  },
  {
   "cell_type": "code",
   "execution_count": 59,
   "metadata": {},
   "outputs": [],
   "source": [
    "def mrna(protein):\n",
    "    protein = protein + '*'\n",
    "    count = 1\n",
    "    for aa in protein:\n",
    "        count = (count * (len(codons[aa])) ) % 1000000\n",
    "    return count"
   ]
  },
  {
   "cell_type": "markdown",
   "metadata": {},
   "source": [
    " "
   ]
  },
  {
   "cell_type": "markdown",
   "metadata": {},
   "source": [
    "نفتح الملف ةحط بالاعتبار انك تشيل ال\n",
    "\n",
    "newlines \n",
    "\n",
    "من الملف"
   ]
  },
  {
   "cell_type": "code",
   "execution_count": 62,
   "metadata": {},
   "outputs": [
    {
     "name": "stdout",
     "output_type": "stream",
     "text": [
      "MMLFVIILGCACGLMSMSGFQRCKEAPGCEFCCWTNSMQSNVVIKAMAMEGYRLPGVEPNGRNQVYPWGNLHLGAVSSAICHDNTYGRSMGEVVSMNEKMMIWIRCCNIWTITAWDAAGDENPIYEPREYEAEGVDLETLDMLTIEFTNRKITWADQPLEAWVPYFCDWMRCGCEHHERQNEFMPICYFCFRTSCPCRLYWLFPLDQKDNQTTRWCCHIWQQYSKIEMYQNIDNETWRSFTFWHMQVDRNLPLEYEVLLVRMQFPIREDNEGEVRSQVGVPPIIHKMYPAWVTGSSCDMQTNVYKWNEFFCHFAFGCGKAFAIYFDDFCSEFLQMFCRCDVNHSATIQKNVAHQYSGLHEDINHEDWVMNDNSASVTSGIKSGHRPLPITHWHLIEPAYQTHNRCLWDDRYISILSAADCHECMHEHCPDENCSHSQTMYWCLIDDNYMPDEFYRSYYSAYPWWPYQGWGKNFLNLITYCWTCARMEFHHMHFMCCWPDIGTVANYKQHNVKPNDKFQCLQLTASRPMVAADGSEYPPRCTVYQLIQAQSWVGNKKPKSQFMTYQVIWEEFTMYCDQYACKEWSMHYHPAPDNIVDVPGRSGVCKFHSDFCYQRGVFYNIGTMGVVHGNVPHSQYLCPNDRATKHFPRAENVWENAMACWTNSTMMCQDKSIWGPRHVFNWPISCKATSLTPWFFIVEWWNTTWMEERWNTRWAASWIRMFVPICKWTDYIYNNPIEPHLGTYFGGFCDWVLTPQERRLFFDDYFQQRPEDNAPNVQFGQFEWQVMCFYTRCMESNYPRCYIKCCGNMNDNRPLLAHPFERKHERKIEILYRYSGPNPNGEEDEGEWCDADHRHEVTLGNAILMFQGSEVEWRLSPRRVRCRSNCKCWAPHEYNKTQQVQMASFMYQYYCYIAERRGPGVGVDVKCFPPHLHTHDNYREYMEVWHYKNAGCQFSIEIKMYAVLERTIFYWWQIHTAWTAFDVERNTTNQNGMPWACAAN\n"
     ]
    }
   ],
   "source": [
    "Protein = open('rosalind_mrna.txt', 'r')\n",
    "seq = Protein.read().rstrip(\"\\n\")\n",
    "print (seq)"
   ]
  },
  {
   "cell_type": "markdown",
   "metadata": {},
   "source": [
    "وهذ هو العدد المطلوب\n",
    " The total number of different RNA strings from which the protein could have been translated, modulo 1,000,000. "
   ]
  },
  {
   "cell_type": "code",
   "execution_count": 64,
   "metadata": {},
   "outputs": [
    {
     "data": {
      "text/plain": [
       "491968"
      ]
     },
     "execution_count": 64,
     "metadata": {},
     "output_type": "execute_result"
    }
   ],
   "source": [
    "mrna(seq)"
   ]
  }
 ],
 "metadata": {
  "kernelspec": {
   "display_name": "Python 3",
   "language": "python",
   "name": "python3"
  },
  "language_info": {
   "codemirror_mode": {
    "name": "ipython",
    "version": 3
   },
   "file_extension": ".py",
   "mimetype": "text/x-python",
   "name": "python",
   "nbconvert_exporter": "python",
   "pygments_lexer": "ipython3",
   "version": "3.7.3"
  }
 },
 "nbformat": 4,
 "nbformat_minor": 2
}
