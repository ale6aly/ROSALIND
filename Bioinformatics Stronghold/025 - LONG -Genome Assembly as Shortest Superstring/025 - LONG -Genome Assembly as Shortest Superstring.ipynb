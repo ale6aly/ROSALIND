{
 "cells": [
  {
   "cell_type": "markdown",
   "metadata": {},
   "source": [
    "# 025 - LONG -Genome Assembly as Shortest Superstring"
   ]
  },
  {
   "cell_type": "markdown",
   "metadata": {},
   "source": [
    "في هذة المشكلة بيعطيك عدد من السلاسل القصيرة ويبي منك تسوي سلسلة طويلة منهم\n",
    "\n",
    "تستخدم هذة الطريقة لتجميع جينوم كائن ما"
   ]
  },
  {
   "cell_type": "code",
   "execution_count": 8,
   "metadata": {},
   "outputs": [
    {
     "name": "stdout",
     "output_type": "stream",
     "text": [
      "ATTAGACCTGCCGGAATAC\n"
     ]
    }
   ],
   "source": [
    "from Bio import SeqIO\n",
    "reads = []\n",
    "handle = open('sample.txt', 'r')\n",
    "for record in SeqIO.parse(handle, 'fasta'):\n",
    "    reads.append(str(record.seq))\n",
    "handle.close()\n",
    "\n",
    "overlaps = []\n",
    "overlapping = []\n",
    "for i in range(len(reads)):\n",
    "    curr_read = reads[i]\n",
    "    for j in range(len(curr_read) // 2, len(curr_read)):\n",
    "        curr_suffix = curr_read[-(j + 1):]\n",
    "        for k in range(len(reads)):\n",
    "            curr_comp = reads[k]\n",
    "            for l in range(len(curr_comp) // 2, len(curr_comp)):\n",
    "                curr_prefix = curr_comp[:l]\n",
    "                if curr_suffix == curr_prefix:\n",
    "                    overlaps.append(k)\n",
    "                    overlapping.append([len(curr_suffix), i, k])\n",
    "\n",
    "s = set(overlaps)\n",
    "first_read = ''\n",
    "count = len(overlapping)\n",
    "for m in range(len(overlapping)):\n",
    "    suf_index = overlapping[m][1]\n",
    "    if suf_index not in s:           \n",
    "        first_read = suf_index\n",
    "        new_str = reads[overlapping[m][1]] + reads[overlapping[m][2]][\n",
    "            overlapping[m][0]:]\n",
    "        count -= 1\n",
    "        pref_index = overlapping[m][2]\n",
    "        while count > 0:                      \n",
    "            for n in range(len(overlapping)):  \n",
    "                if pref_index == overlapping[n][1]:\n",
    "                    new_str += reads[overlapping[n][2]][overlapping[n][0]:]\n",
    "                    pref_index = overlapping[n][2]\n",
    "                    count -= 1\n",
    "\n",
    "print(new_str)\n"
   ]
  }
 ],
 "metadata": {
  "kernelspec": {
   "display_name": "Python 3",
   "language": "python",
   "name": "python3"
  },
  "language_info": {
   "codemirror_mode": {
    "name": "ipython",
    "version": 3
   },
   "file_extension": ".py",
   "mimetype": "text/x-python",
   "name": "python",
   "nbconvert_exporter": "python",
   "pygments_lexer": "ipython3",
   "version": "3.7.3"
  }
 },
 "nbformat": 4,
 "nbformat_minor": 2
}
