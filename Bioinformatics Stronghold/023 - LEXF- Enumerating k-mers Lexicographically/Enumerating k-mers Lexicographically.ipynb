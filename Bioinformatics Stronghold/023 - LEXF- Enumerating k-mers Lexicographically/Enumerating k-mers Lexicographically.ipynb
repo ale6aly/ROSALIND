{
 "cells": [
  {
   "cell_type": "markdown",
   "metadata": {},
   "source": [
    "# Enumerating k-mers Lexicographically"
   ]
  },
  {
   "cell_type": "markdown",
   "metadata": {},
   "source": [
    "الفكره هنا بيعطيك حروف بترتيب معين وطول ثابت للسلسة\n",
    "\n",
    "ويبيك ترجعله كل الاحتمالات مرتبة بناء على ترتيب الحرف \n",
    "\n",
    "يعني تقدر تعتبر الحروف هي الابجدية الي تستخدمها"
   ]
  },
  {
   "cell_type": "code",
   "execution_count": 4,
   "metadata": {},
   "outputs": [],
   "source": [
    "import itertools #حزمة بايثون ممتازة جدا لهذة التطبيقات                                 \n",
    "n = 4 #طول السلسة                                            \n",
    "s = ['A', 'B', 'C', 'D', 'E']  #الحروف الي يوفرها مع ترتيبها                        \n",
    "perm = itertools.product(s, repeat=n)   # يعطيك الاحتمالات كاملة        \n",
    "for i, j in enumerate(list(perm)):                \n",
    "    permutation = ''                              \n",
    "    for item in j:                                \n",
    "        permutation += str(item)                  \n",
    "    with open('answer.txt', 'a') as text_file:    \n",
    "        print(permutation.strip(), file=text_file)"
   ]
  }
 ],
 "metadata": {
  "kernelspec": {
   "display_name": "Python 3",
   "language": "python",
   "name": "python3"
  },
  "language_info": {
   "codemirror_mode": {
    "name": "ipython",
    "version": 3
   },
   "file_extension": ".py",
   "mimetype": "text/x-python",
   "name": "python",
   "nbconvert_exporter": "python",
   "pygments_lexer": "ipython3",
   "version": "3.7.3"
  }
 },
 "nbformat": 4,
 "nbformat_minor": 2
}
