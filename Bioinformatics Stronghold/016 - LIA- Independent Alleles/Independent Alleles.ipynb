{
 "cells": [
  {
   "cell_type": "markdown",
   "metadata": {},
   "source": [
    "# 016 - LIA- Independent Alleles"
   ]
  },
  {
   "cell_type": "markdown",
   "metadata": {},
   "source": [
    "المطلوب منك في هذة المسألة\n",
    "\n",
    "حساب احتمالية عدد محدد يحملون الصفه الورثية \n",
    "Aa Bb  \n",
    "\n",
    "بعد عدد اجيال \n",
    "k\n",
    "\n",
    "القانون الثاني لمندل يعتبر ساري"
   ]
  },
  {
   "cell_type": "markdown",
   "metadata": {},
   "source": [
    " "
   ]
  },
  {
   "cell_type": "markdown",
   "metadata": {},
   "source": [
    "كل المطلوب منك انك تسوي كود لهذه المعادلة الي تحسب لك النسبه"
   ]
  },
  {
   "cell_type": "code",
   "execution_count": 10,
   "metadata": {},
   "outputs": [
    {
     "data": {
      "image/png": "[encoded data removed]",
      "text/plain": [
       "<IPython.core.display.Image object>"
      ]
     },
     "execution_count": 10,
     "metadata": {},
     "output_type": "execute_result"
    }
   ],
   "source": [
    "from IPython.display import Image\n",
    "Image(filename='image.png')"
   ]
  },
  {
   "cell_type": "markdown",
   "metadata": {},
   "source": [
    " "
   ]
  },
  {
   "cell_type": "markdown",
   "metadata": {},
   "source": [
    "اولا نحمل باقة ماث الي بتساعدنا مع الارقام الي توفرها المسألة"
   ]
  },
  {
   "cell_type": "code",
   "execution_count": 13,
   "metadata": {},
   "outputs": [],
   "source": [
    "import math                                                                    \n",
    "\n",
    "k = 7                                                                         \n",
    "N = 32                                                                          \n",
    "P = 2**k  "
   ]
  },
  {
   "cell_type": "markdown",
   "metadata": {},
   "source": [
    "الكود هذا بيحسب لنا النسبة\n",
    "\n",
    "ببساطه تطبيق للقانون الرياضي الي ذكرناه"
   ]
  },
  {
   "cell_type": "code",
   "execution_count": 14,
   "metadata": {},
   "outputs": [
    {
     "name": "stdout",
     "output_type": "stream",
     "text": [
      "0.5338897878610799\n"
     ]
    }
   ],
   "source": [
    "                                                                     \n",
    "probability = 0                                                                \n",
    "for i in range(N, P + 1):                                                      \n",
    "    prob = (math.factorial(P) /                                                \n",
    "            (math.factorial(i) * math.factorial(P - i))) * (0.25**i) * (0.75**(\n",
    "                P - i))                                                        \n",
    "    probability += prob                                                        \n",
    "print(probability)  "
   ]
  }
 ],
 "metadata": {
  "kernelspec": {
   "display_name": "Python 3",
   "language": "python",
   "name": "python3"
  },
  "language_info": {
   "codemirror_mode": {
    "name": "ipython",
    "version": 3
   },
   "file_extension": ".py",
   "mimetype": "text/x-python",
   "name": "python",
   "nbconvert_exporter": "python",
   "pygments_lexer": "ipython3",
   "version": "3.7.3"
  }
 },
 "nbformat": 4,
 "nbformat_minor": 2
}
