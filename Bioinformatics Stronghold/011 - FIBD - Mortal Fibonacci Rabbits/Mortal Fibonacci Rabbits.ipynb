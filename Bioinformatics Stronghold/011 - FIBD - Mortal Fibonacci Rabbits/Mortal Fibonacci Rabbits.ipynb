{
 "cells": [
  {
   "cell_type": "markdown",
   "metadata": {},
   "source": [
    "# 011 - FIBD - Mortal Fibonacci Rabbits"
   ]
  },
  {
   "cell_type": "markdown",
   "metadata": {},
   "source": [
    "هذه نفس المشكله السابقة لكن الحين عندنا متغير العمر داخل بالمعادله"
   ]
  },
  {
   "cell_type": "markdown",
   "metadata": {},
   "source": [
    " "
   ]
  },
  {
   "cell_type": "markdown",
   "metadata": {},
   "source": [
    "بيعطيك رقمين عدد الشهور الي يبيك تحسب الارانب عندها والرقم الثاني  هو العمر الافتراضي للارانب"
   ]
  },
  {
   "cell_type": "markdown",
   "metadata": {},
   "source": [
    "الي تسويه مجرد تطبيق للفكره الثانيه في هذه الصفحه\n",
    "http://rosalind.info/problems/fibd/explanation/"
   ]
  },
  {
   "cell_type": "markdown",
   "metadata": {},
   "source": [
    "  "
   ]
  },
  {
   "cell_type": "markdown",
   "metadata": {},
   "source": [
    "الي يسويه الكود انه يبدا بالعدد الموجود حاليا\n",
    "\n",
    "بعدين يقعد يزيد العدد كل جيل لين يوصل عدد الشهور المطلوب"
   ]
  },
  {
   "cell_type": "code",
   "execution_count": 21,
   "metadata": {},
   "outputs": [],
   "source": [
    "def mrabbits(m, n):\n",
    "    r = [1] + [0] * (n-1)\n",
    "    for i in range(2, m+1):\n",
    "        r = [sum(r[1:])] + r[:-1]\n",
    "    return sum(r)"
   ]
  },
  {
   "cell_type": "markdown",
   "metadata": {},
   "source": [
    "والحين نطبع العدد"
   ]
  },
  {
   "cell_type": "code",
   "execution_count": 22,
   "metadata": {},
   "outputs": [
    {
     "name": "stdout",
     "output_type": "stream",
     "text": [
      "2\n"
     ]
    }
   ],
   "source": [
    "print (mrabbits(4, 3))"
   ]
  }
 ],
 "metadata": {
  "kernelspec": {
   "display_name": "Python 3",
   "language": "python",
   "name": "python3"
  },
  "language_info": {
   "codemirror_mode": {
    "name": "ipython",
    "version": 3
   },
   "file_extension": ".py",
   "mimetype": "text/x-python",
   "name": "python",
   "nbconvert_exporter": "python",
   "pygments_lexer": "ipython3",
   "version": "3.7.3"
  }
 },
 "nbformat": 4,
 "nbformat_minor": 2
}
