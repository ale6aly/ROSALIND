{
 "cells": [
  {
   "cell_type": "markdown",
   "metadata": {},
   "source": [
    "# 005 - GC - Computing GC Content"
   ]
  },
  {
   "cell_type": "markdown",
   "metadata": {},
   "source": [
    "الي يساعدنا فيه هذا الكود هو حساب ال \n",
    "\n",
    "GC-content \n",
    "\n",
    "او النسبة المئوية للجي والسي في السلسلة\n",
    "\n",
    "النسبة المئوية تفيد في معرفة نوع او فصيلة سلسلة مجهوله\n",
    "يعني البكتيريا مثلا عندها نسب اعلى من الخلايا البشريه"
   ]
  },
  {
   "cell_type": "markdown",
   "metadata": {},
   "source": [
    "### الكود"
   ]
  },
  {
   "cell_type": "markdown",
   "metadata": {},
   "source": [
    "نبدأ بتجميل الملف الي يحتوي على كذا سلسلة"
   ]
  },
  {
   "cell_type": "code",
   "execution_count": 3,
   "metadata": {},
   "outputs": [],
   "source": [
    "f = open('rosalind_gc.txt', 'r')"
   ]
  },
  {
   "cell_type": "markdown",
   "metadata": {},
   "source": [
    " بعدين نحط متغيرين الي بيصيرون بعدين اعلى قيمه واسم السلسلة لأستخدامهم بالخوارزمية"
   ]
  },
  {
   "cell_type": "code",
   "execution_count": 4,
   "metadata": {},
   "outputs": [],
   "source": [
    "max_gc_name, max_gc_content = '', 0"
   ]
  },
  {
   "cell_type": "markdown",
   "metadata": {},
   "source": [
    "بعدين نستخدم هذا الامر الي بيقرى الملف سطر سطر ويفصل كل سلسلة واسمها ونسبتها ويخليلهم كمتغيرمنفصل"
   ]
  },
  {
   "cell_type": "code",
   "execution_count": 7,
   "metadata": {},
   "outputs": [],
   "source": [
    "buf = f.readline().rstrip()"
   ]
  },
  {
   "cell_type": "markdown",
   "metadata": {},
   "source": [
    "الللوب هذا بيمر على السلاسل في الملف واحد واحد ويحسب النسبه في كل سلسلة \n",
    "وياخذ النسبه في كل دوره ويخليها النسبه الاعلى اذا هي اكبر من النسبة المسجلة"
   ]
  },
  {
   "cell_type": "code",
   "execution_count": 8,
   "metadata": {},
   "outputs": [],
   "source": [
    "while buf:\n",
    "    seq_name, seq = buf[1:], ''\n",
    "    buf = f.readline().rstrip()\n",
    "    while not buf.startswith('>') and buf:\n",
    "        seq = seq + buf\n",
    "        buf = f.readline().rstrip()\n",
    "    seq_gc_content = (seq.count('C') + seq.count('G'))/float(len(seq))\n",
    "    if seq_gc_content > max_gc_content:\n",
    "        max_gc_name, max_gc_content = seq_name, seq_gc_content"
   ]
  },
  {
   "cell_type": "markdown",
   "metadata": {},
   "source": [
    "نطبع اسم السلسلة الي تحتوي على اعلى نسبه والنسبه المقربه الى ست خانات بعد الفاصله كما هو مطلوب  "
   ]
  },
  {
   "cell_type": "code",
   "execution_count": 9,
   "metadata": {},
   "outputs": [
    {
     "name": "stdout",
     "output_type": "stream",
     "text": [
      "Rosalind_5869\n",
      "51.555024%\n"
     ]
    }
   ],
   "source": [
    "print('%s\\n%.6f%%' % (max_gc_name, max_gc_content * 100))"
   ]
  },
  {
   "cell_type": "code",
   "execution_count": null,
   "metadata": {},
   "outputs": [],
   "source": []
  }
 ],
 "metadata": {
  "kernelspec": {
   "display_name": "Python 3",
   "language": "python",
   "name": "python3"
  },
  "language_info": {
   "codemirror_mode": {
    "name": "ipython",
    "version": 3
   },
   "file_extension": ".py",
   "mimetype": "text/x-python",
   "name": "python",
   "nbconvert_exporter": "python",
   "pygments_lexer": "ipython3",
   "version": "3.6.5"
  }
 },
 "nbformat": 4,
 "nbformat_minor": 2
}
