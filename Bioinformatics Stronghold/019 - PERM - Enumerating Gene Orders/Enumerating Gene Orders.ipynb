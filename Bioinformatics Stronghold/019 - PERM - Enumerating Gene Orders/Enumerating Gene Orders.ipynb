{
 "cells": [
  {
   "cell_type": "markdown",
   "metadata": {},
   "source": [
    "# 019 - PERM - Enumerating Gene Orders"
   ]
  },
  {
   "cell_type": "code",
   "execution_count": 3,
   "metadata": {},
   "outputs": [
    {
     "name": "stdout",
     "output_type": "stream",
     "text": [
      "6\n",
      "1 2 3 \n",
      "1 3 2 \n",
      "2 1 3 \n",
      "2 3 1 \n",
      "3 1 2 \n",
      "3 2 1 \n"
     ]
    }
   ],
   "source": [
    "import math                                         \n",
    "import itertools                                    \n",
    "n = 3                                             \n",
    "print(math.factorial(n))                            \n",
    "perm = itertools.permutations(list(range(1, n + 1)))\n",
    "for i, j in enumerate(list(perm)):                  \n",
    "    permutation = ''                                \n",
    "    for item in j:                                  \n",
    "        permutation += str(item) + ' '              \n",
    "    print(permutation)"
   ]
  }
 ],
 "metadata": {
  "kernelspec": {
   "display_name": "Python 3",
   "language": "python",
   "name": "python3"
  },
  "language_info": {
   "codemirror_mode": {
    "name": "ipython",
    "version": 3
   },
   "file_extension": ".py",
   "mimetype": "text/x-python",
   "name": "python",
   "nbconvert_exporter": "python",
   "pygments_lexer": "ipython3",
   "version": "3.7.3"
  }
 },
 "nbformat": 4,
 "nbformat_minor": 2
}
