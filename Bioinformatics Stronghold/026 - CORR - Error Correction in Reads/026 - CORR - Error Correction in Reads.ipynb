{
 "cells": [
  {
   "cell_type": "markdown",
   "metadata": {},
   "source": [
    "# 026 - CORR - Error Correction in Reads"
   ]
  },
  {
   "cell_type": "markdown",
   "metadata": {},
   "source": [
    "في هذه المشكلة نحن نبحث في الأخطاء التي تحدث اثناء تسلسل الجينوم.\n",
    "\n",
    "ستعطى عدد كبير من السلاسل الصغيرة\n",
    "\n",
    "وتحدد ما اذا كانت خطئة او لا بناء  على تشابهها مع باقي السلاسل\n",
    "\n",
    "الخطأ سيكون في مكان واحد فقط"
   ]
  },
  {
   "cell_type": "code",
   "execution_count": 9,
   "metadata": {},
   "outputs": [],
   "source": [
    "from Bio import SeqIO                                                 \n",
    "from Bio.Seq import Seq                                               \n",
    "from Bio.Alphabet import generic_dna                                  \n",
    "reads = []                                                            \n",
    "handle = open('sample.txt', 'r')                                \n",
    "for record in SeqIO.parse(handle, 'fasta'):                           \n",
    "    reads.append(str(record.seq))                                     \n",
    "handle.close()                                                        \n",
    "\n",
    "right = []                                                            \n",
    "wrong = []                                                            \n",
    "for i, j in enumerate(reads):                                         \n",
    "    read = Seq(j, generic_dna)                                        \n",
    "    rev_read = read.reverse_complement()                              \n",
    "    for k in range(i + 1, len(reads)):                                \n",
    "        if read == reads[k] or rev_read == reads[k]:                  \n",
    "            if read not in right and rev_read not in right:           \n",
    "                right.append(str(read))                               \n",
    "                right.append(str(rev_read))                           \n",
    "\n",
    "for l in reads:                                                       \n",
    "    if l not in right:                                                \n",
    "        wrong.append(l)                                               \n",
    "\n",
    "for incorrect in wrong:                                               \n",
    "    for correct in right:                                             \n",
    "        hamming = 0                                                   \n",
    "        for nt1, nt2 in zip(incorrect, correct):                      \n",
    "            if nt1 != nt2:                                            \n",
    "                hamming += 1                                          \n",
    "                if hamming > 2:                                       \n",
    "                    break                                             \n",
    "        if hamming == 1:                                              \n",
    "            with open('answer.txt', 'a') as textfile:                 \n",
    "                print(incorrect, '->', correct, sep='', file=textfile)"
   ]
  }
 ],
 "metadata": {
  "kernelspec": {
   "display_name": "Python 3",
   "language": "python",
   "name": "python3"
  },
  "language_info": {
   "codemirror_mode": {
    "name": "ipython",
    "version": 3
   },
   "file_extension": ".py",
   "mimetype": "text/x-python",
   "name": "python",
   "nbconvert_exporter": "python",
   "pygments_lexer": "ipython3",
   "version": "3.7.3"
  }
 },
 "nbformat": 4,
 "nbformat_minor": 2
}
