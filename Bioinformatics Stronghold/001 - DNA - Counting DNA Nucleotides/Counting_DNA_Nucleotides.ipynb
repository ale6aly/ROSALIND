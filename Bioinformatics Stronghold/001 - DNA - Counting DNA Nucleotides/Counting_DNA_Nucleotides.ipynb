{
 "cells": [
  {
   "cell_type": "markdown",
   "metadata": {},
   "source": [
    "# 001 - DNA - Counting DNA Nucleotides"
   ]
  },
  {
   "cell_type": "markdown",
   "metadata": {},
   "source": [
    "اول شي نحمل الملف الي فيه السلسة الى البايثون -تأكد ان الملف ما فيه فراغات وأنه بصيغة تكست"
   ]
  },
  {
   "cell_type": "code",
   "execution_count": 62,
   "metadata": {},
   "outputs": [],
   "source": [
    "file = open('./rosalind_dna.txt', 'r')"
   ]
  },
  {
   "cell_type": "markdown",
   "metadata": {},
   "source": [
    "نستخدم هذا الامر لقراءة الملف وربطه بمتغير لبداية التحليل"
   ]
  },
  {
   "cell_type": "code",
   "execution_count": 63,
   "metadata": {},
   "outputs": [],
   "source": [
    "seq = file.read()"
   ]
  },
  {
   "cell_type": "markdown",
   "metadata": {},
   "source": [
    "ننشأ متغيرات لحفظ الاعداد فيه"
   ]
  },
  {
   "cell_type": "code",
   "execution_count": 64,
   "metadata": {},
   "outputs": [],
   "source": [
    "countA = 0\n",
    "countC = 0\n",
    "countG = 0\n",
    "countT = 0"
   ]
  },
  {
   "cell_type": "markdown",
   "metadata": {},
   "source": [
    "ننشأ اللوب الي يمر على السلسة ويحسب عدد كل حرف ويخزنه في المتغير الخاص فيه"
   ]
  },
  {
   "cell_type": "code",
   "execution_count": 65,
   "metadata": {},
   "outputs": [],
   "source": [
    "for n in seq:\n",
    "    if n == 'A':\n",
    "        countA += 1\n",
    "    if n == 'C':\n",
    "        countC += 1\n",
    "    if n == 'G':\n",
    "        countG += 1\n",
    "    if n == 'T':\n",
    "        countT += 1"
   ]
  },
  {
   "cell_type": "markdown",
   "metadata": {},
   "source": [
    "والان تقدر تطبع المتغيرات - لاحظ الفراغات بين كل متغير"
   ]
  },
  {
   "cell_type": "code",
   "execution_count": 66,
   "metadata": {},
   "outputs": [
    {
     "name": "stdout",
     "output_type": "stream",
     "text": [
      "234 229 229 281\n"
     ]
    }
   ],
   "source": [
    "print(\"%d %d %d %d\" %(countA,countC,countG,countT))"
   ]
  }
 ],
 "metadata": {
  "kernelspec": {
   "display_name": "Python 3",
   "language": "python",
   "name": "python3"
  },
  "language_info": {
   "codemirror_mode": {
    "name": "ipython",
    "version": 3
   },
   "file_extension": ".py",
   "mimetype": "text/x-python",
   "name": "python",
   "nbconvert_exporter": "python",
   "pygments_lexer": "ipython3",
   "version": "3.6.5"
  }
 },
 "nbformat": 4,
 "nbformat_minor": 2
}
